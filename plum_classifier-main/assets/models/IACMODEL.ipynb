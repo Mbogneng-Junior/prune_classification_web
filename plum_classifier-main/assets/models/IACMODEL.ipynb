{
 "cells": [
  {
   "cell_type": "code",
   "execution_count": 1,
   "metadata": {
    "colab": {
     "base_uri": "https://localhost:8080/"
    },
    "id": "qCZlGgw4OW4G",
    "outputId": "cc3eaeff-dd04-4b87-d179-a1094d7ecffc"
   },
   "outputs": [
    {
     "name": "stdout",
     "output_type": "stream",
     "text": [
      "✅ Prédiction : spotted\n"
     ]
    }
   ],
   "source": [
    "# import\n",
    "import torch\n",
    "import timm\n",
    "from torchvision import transforms\n",
    "from PIL import Image\n",
    "\n",
    "# === PARAMÈTRES ===\n",
    "model_name = \"rexnet_150\"\n",
    "ckpt_path = \"/content/drive/MyDrive/Colab_Notebooks/plums_triplet_rexnet_150_best_model.pth\"  # ou .pth\n",
    "num_classes = 6\n",
    "device = torch.device(\"cuda\" if torch.cuda.is_available() else \"cpu\")\n",
    "\n",
    "class_names = ['unripe', 'cracked', 'Rotten', 'spotted', 'bruised', 'unaffected']  # exemple\n",
    "\n",
    "# === PRÉTRAITEMENT DE L’IMAGE ===\n",
    "transform = transforms.Compose([\n",
    "    transforms.Resize((224, 224)),\n",
    "    transforms.ToTensor(),\n",
    "    transforms.Normalize([0.485, 0.456, 0.406], [0.229, 0.224, 0.225]),\n",
    "])\n",
    "\n",
    "img_path = \"/content/drive/MyDrive/Colab_Notebooks/test/spotted/spotted_plum_105.png\"\n",
    "img = Image.open(img_path).convert(\"RGB\")\n",
    "input_tensor = transform(img).unsqueeze(0).to(device)\n",
    "\n",
    "# === CHARGEMENT DU MODÈLE ===\n",
    "model = timm.create_model(model_name, num_classes=num_classes)\n",
    "model.load_state_dict(torch.load(ckpt_path, map_location=device))\n",
    "model.eval().to(device)\n",
    "\n",
    "# === INFÉRENCE ===\n",
    "with torch.no_grad():\n",
    "    output = model(input_tensor)\n",
    "    pred_idx = output.argmax(1).item()\n",
    "    pred_label = class_names[pred_idx]\n",
    "\n",
    "print(f\"✅ Prédiction : {pred_label}\")\n"
   ]
  },
  {
   "cell_type": "code",
   "execution_count": null,
   "metadata": {
    "id": "PINPIujxOfcX"
   },
   "outputs": [],
   "source": []
  }
 ],
 "metadata": {
  "colab": {
   "provenance": []
  },
  "kernelspec": {
   "display_name": "Python 3 (ipykernel)",
   "language": "python",
   "name": "python3"
  },
  "language_info": {
   "codemirror_mode": {
    "name": "ipython",
    "version": 3
   },
   "file_extension": ".py",
   "mimetype": "text/x-python",
   "name": "python",
   "nbconvert_exporter": "python",
   "pygments_lexer": "ipython3",
   "version": "3.10.12"
  }
 },
 "nbformat": 4,
 "nbformat_minor": 4
}
